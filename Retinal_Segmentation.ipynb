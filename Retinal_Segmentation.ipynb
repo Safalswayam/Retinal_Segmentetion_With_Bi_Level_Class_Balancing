{
 "cells": [
  {
   "cell_type": "markdown",
   "id": "622b7b89",
   "metadata": {},
   "source": [
    "# Project 1: Retinal Vessel Segmentation with Bi-Level Class Balancing\n",
    "\n",
    "## Objective:\n",
    "- Apply preprocessing (GCN, CLAHE, gamma correction)\n",
    "- Implement Bi-Level Balancing for vessel and non-vessel segmentation\n",
    "- Train CNN on DRIVE dataset and evaluate with AUC, sensitivity, specificity\n"
   ]
  },
  {
   "cell_type": "code",
   "execution_count": 1,
   "id": "2da62aaa",
   "metadata": {},
   "outputs": [],
   "source": [
    "import numpy as np\n",
    "import cv2\n",
    "import os\n",
    "import matplotlib.pyplot as plt\n",
    "from sklearn.metrics import roc_auc_score, accuracy_score, confusion_matrix\n",
    "import tensorflow as tf\n",
    "from tensorflow.keras.models import Model\n",
    "from tensorflow.keras.layers import Input, Conv2D, MaxPooling2D, UpSampling2D, concatenate\n",
    "from tensorflow.keras.utils import to_categorical\n"
   ]
  },
  {
   "cell_type": "code",
   "execution_count": 2,
   "id": "dc489dea",
   "metadata": {},
   "outputs": [],
   "source": [
    "# Cell 2: Data Loader\n",
    "\n",
    "import os\n",
    "import numpy as np\n",
    "from tensorflow.keras.preprocessing.image import load_img, img_to_array\n",
    "\n",
    "def load_images_and_masks(image_dir, mask_dir, img_size=(256, 256)):\n",
    "    image_files = sorted(os.listdir(image_dir))\n",
    "    mask_files = sorted(os.listdir(mask_dir))\n",
    "    X = []\n",
    "    y = []\n",
    "    for img_file, mask_file in zip(image_files, mask_files):\n",
    "        img = load_img(os.path.join(image_dir, img_file), target_size=img_size)\n",
    "        mask = load_img(os.path.join(mask_dir, mask_file), target_size=img_size, color_mode=\"grayscale\")\n",
    "        X.append(img_to_array(img) / 255.0)\n",
    "        y.append(img_to_array(mask) / 255.0)\n",
    "    return np.array(X), np.array(y)\n"
   ]
  },
  {
   "cell_type": "code",
   "execution_count": 3,
   "id": "b04955d6",
   "metadata": {},
   "outputs": [],
   "source": [
    "# Cell 3: U-Net Model\n",
    "def build_unet(input_shape=(256, 256, 3)):\n",
    "    inputs = Input(input_shape)\n",
    "\n",
    "    c1 = Conv2D(16, (3, 3), activation='relu', padding='same')(inputs)\n",
    "    p1 = MaxPooling2D((2, 2))(c1)\n",
    "\n",
    "    c2 = Conv2D(32, (3, 3), activation='relu', padding='same')(p1)\n",
    "    p2 = MaxPooling2D((2, 2))(c2)\n",
    "\n",
    "    c3 = Conv2D(64, (3, 3), activation='relu', padding='same')(p2)\n",
    "\n",
    "    u1 = UpSampling2D((2, 2))(c3)\n",
    "    concat1 = concatenate([u1, c2])\n",
    "    c4 = Conv2D(32, (3, 3), activation='relu', padding='same')(concat1)\n",
    "\n",
    "    u2 = UpSampling2D((2, 2))(c4)\n",
    "    concat2 = concatenate([u2, c1])\n",
    "    c5 = Conv2D(16, (3, 3), activation='relu', padding='same')(concat2)\n",
    "\n",
    "    outputs = Conv2D(1, (1, 1), activation='sigmoid')(c5)\n",
    "\n",
    "    model = Model(inputs, outputs)\n",
    "    model.compile(optimizer='adam', loss='binary_crossentropy', metrics=['accuracy'])\n",
    "\n",
    "    return model\n"
   ]
  },
  {
   "cell_type": "code",
   "execution_count": 4,
   "id": "f9968d47",
   "metadata": {},
   "outputs": [
    {
     "name": "stdout",
     "output_type": "stream",
     "text": [
      "Image shape: (28, 256, 256, 3)\n",
      "Mask shape: (28, 256, 256, 1)\n",
      "Epoch 1/5\n",
      "\u001b[1m1/1\u001b[0m \u001b[32m━━━━━━━━━━━━━━━━━━━━\u001b[0m\u001b[37m\u001b[0m \u001b[1m3s\u001b[0m 3s/step - accuracy: 0.7529 - loss: 0.6844 - val_accuracy: 0.9075 - val_loss: 0.6472\n",
      "Epoch 2/5\n",
      "\u001b[1m1/1\u001b[0m \u001b[32m━━━━━━━━━━━━━━━━━━━━\u001b[0m\u001b[37m\u001b[0m \u001b[1m1s\u001b[0m 885ms/step - accuracy: 0.9101 - loss: 0.6513 - val_accuracy: 0.9298 - val_loss: 0.6257\n",
      "Epoch 3/5\n",
      "\u001b[1m1/1\u001b[0m \u001b[32m━━━━━━━━━━━━━━━━━━━━\u001b[0m\u001b[37m\u001b[0m \u001b[1m1s\u001b[0m 917ms/step - accuracy: 0.9289 - loss: 0.6316 - val_accuracy: 0.9298 - val_loss: 0.6044\n",
      "Epoch 4/5\n",
      "\u001b[1m1/1\u001b[0m \u001b[32m━━━━━━━━━━━━━━━━━━━━\u001b[0m\u001b[37m\u001b[0m \u001b[1m1s\u001b[0m 943ms/step - accuracy: 0.9289 - loss: 0.6117 - val_accuracy: 0.9298 - val_loss: 0.5800\n",
      "Epoch 5/5\n",
      "\u001b[1m1/1\u001b[0m \u001b[32m━━━━━━━━━━━━━━━━━━━━\u001b[0m\u001b[37m\u001b[0m \u001b[1m1s\u001b[0m 910ms/step - accuracy: 0.9289 - loss: 0.5886 - val_accuracy: 0.9298 - val_loss: 0.5501\n"
     ]
    },
    {
     "data": {
      "image/png": "[encoded data removed]",
      "text/plain": [
       "<Figure size 640x480 with 1 Axes>"
      ]
     },
     "metadata": {},
     "output_type": "display_data"
    }
   ],
   "source": [
    "# Cell 4: Train and Evaluate\n",
    "from sklearn.model_selection import train_test_split\n",
    "image_dir = r'C:\\Users\\KIIT\\data science\\archive (2)\\CHASE_DB1\\Images'  # Replace with your image directory\n",
    "mask_dir = r'C:\\Users\\KIIT\\data science\\archive (2)\\CHASE_DB1\\Masks'  # Replace with your mask directory\n",
    "\n",
    "X, y = load_images_and_masks(image_dir, mask_dir)\n",
    "print(\"Image shape:\", X.shape)\n",
    "print(\"Mask shape:\", y.shape)\n",
    "\n",
    "X_train, X_val, y_train, y_val = train_test_split(X, y, test_size=0.2)\n",
    "\n",
    "model = build_unet()\n",
    "history = model.fit(X_train, y_train, epochs=5, batch_size=32, validation_data=(X_val, y_val))\n",
    "\n",
    "plt.plot(history.history['accuracy'], label='train_accuracy')\n",
    "plt.plot(history.history['val_accuracy'], label='val_accuracy')\n",
    "plt.legend()\n",
    "plt.title(\"Model Accuracy\")\n",
    "plt.show()\n"
   ]
  },
  {
   "cell_type": "code",
   "execution_count": null,
   "id": "baa9bf32",
   "metadata": {},
   "outputs": [],
   "source": []
  }
 ],
 "metadata": {
  "kernelspec": {
   "display_name": "Python 3",
   "language": "python",
   "name": "python3"
  },
  "language_info": {
   "codemirror_mode": {
    "name": "ipython",
    "version": 3
   },
   "file_extension": ".py",
   "mimetype": "text/x-python",
   "name": "python",
   "nbconvert_exporter": "python",
   "pygments_lexer": "ipython3",
   "version": "3.12.9"
  }
 },
 "nbformat": 4,
 "nbformat_minor": 5
}
